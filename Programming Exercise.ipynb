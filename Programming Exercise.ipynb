{
 "cells": [
  {
   "cell_type": "markdown",
   "metadata": {},
   "source": [
    "### Exercise 1"
   ]
  },
  {
   "cell_type": "code",
   "execution_count": null,
   "metadata": {},
   "outputs": [],
   "source": [
    "inventory = {\n",
    " 'gold' : 500,\n",
    " 'pouch' : ['flint', 'twine', 'gemstone'],\n",
    " 'backpack' : ['xylophone','dagger', 'bedroll','bread loaf']\n",
    "}\n",
    "#1\n",
    "inventory.setdefault('pocket')\n",
    "\n",
    "#2\n",
    "inventory['pocket'] = ['Seashell', 'strange berry', 'lint']\n",
    "\n",
    "#3\n",
    "inventory['backpack'] = sorted(inventory['backpack'])\n",
    "\n",
    "#4\n",
    "inventory['backpack'].remove('dagger')\n",
    "\n",
    "#5\n",
    "inventory['gold'] = inventory.get('gold', 0)+50"
   ]
  },
  {
   "cell_type": "markdown",
   "metadata": {},
   "source": [
    "### Exercise 2"
   ]
  },
  {
   "cell_type": "code",
   "execution_count": null,
   "metadata": {},
   "outputs": [],
   "source": [
    "#1\n",
    "prices ={\n",
    "    \"banana\": 4,\n",
    "    \"apple\": 2,\n",
    "    \"orange\": 1.5,\n",
    "    \"pear\": 3\n",
    "}\n",
    "\n",
    "stock ={\n",
    "    \"banana\": 6,\n",
    "    \"apple\": 0,\n",
    "    \"orange\": 32,\n",
    "    \"pear\": 15\n",
    "}\n",
    "\n",
    "#2\n",
    "for key in prices:\n",
    "    print(f'{key.capitalize()}\\nPrice: {prices.get(key, 0)}\\nStock: {stock.get(key, 0)}\\n')\n",
    "\n",
    "#3\n",
    "total = 0\n",
    "for key in prices:\n",
    "    total += prices.get(key, 0)*stock.get(key, 0)\n",
    "print(total)"
   ]
  },
  {
   "cell_type": "markdown",
   "metadata": {},
   "source": [
    "### Exercise 3"
   ]
  },
  {
   "cell_type": "code",
   "execution_count": null,
   "metadata": {},
   "outputs": [],
   "source": [
    "#1\n",
    "groceries = [\"banana\",\"orange\",\"apple\"]\n",
    "\n",
    "#2\n",
    "prices ={\n",
    "    \"banana\": 4,\n",
    "    \"apple\": 2,\n",
    "    \"orange\": 1.5,\n",
    "    \"pear\": 3\n",
    "}\n",
    "\n",
    "stock ={\n",
    "    \"banana\": 6,\n",
    "    \"apple\": 0,\n",
    "    \"orange\": 32,\n",
    "    \"pear\": 15\n",
    "}\n",
    "\n",
    "#3\n",
    "def compute_bill(list):\n",
    "    total = 0\n",
    "    for food in list:\n",
    "        price = prices.get(food, 0)\n",
    "        stk = stock.get(food, 0)\n",
    "        if stk > 0:\n",
    "            total += price\n",
    "        stock[food] = max(stk-1, 0)\n",
    "    return total"
   ]
  },
  {
   "cell_type": "markdown",
   "metadata": {},
   "source": [
    "### Exercise 4"
   ]
  },
  {
   "cell_type": "code",
   "execution_count": null,
   "metadata": {},
   "outputs": [],
   "source": [
    "eren = {\n",
    "    \"name\": \"Eren\",\n",
    "    \"homework\": [90.0,97.0,75.0,92.0],\n",
    "    \"quizzes\": [88.0,40.0,94.0],\n",
    "    \"tests\": [75.0,90.0]\n",
    "}\n",
    "mikasa = {\n",
    "    \"name\": \"Mikasa\",\n",
    "    \"homework\": [100.0, 92.0, 98.0, 100.0],\n",
    "    \"quizzes\": [82.0, 83.0, 91.0],\n",
    "    \"tests\": [89.0, 97.0]\n",
    "}\n",
    "armin = {\n",
    "    \"name\": \"Armin\",\n",
    "    \"homework\": [0.0, 87.0, 75.0, 22.0],\n",
    "    \"quizzes\": [0.0, 75.0, 78.0],\n",
    "    \"tests\": [100.0, 100.0]\n",
    "}\n",
    "#1\n",
    "students = [eren, mikasa, armin]\n",
    "\n",
    "#2\n",
    "for student in students:\n",
    "    for data, value in list(student.items()):\n",
    "        print(f'{data.capitalize()} : {str(value).strip(\"[]\")}')\n",
    "    print()\n",
    "\n",
    "#3\n",
    "def average(numbers):\n",
    "    total = float(sum(numbers))\n",
    "    return total / len(numbers)\n",
    "\n",
    "#4\n",
    "def get_average(student):\n",
    "    homework = average(student['homework'])\n",
    "    quizzes = average(student['quizzes'])\n",
    "    tests = average(student['tests'])\n",
    "    weighted_score = 0.1*homework + 0.3*quizzes + 0.6*tests\n",
    "    return weighted_score\n",
    "\n",
    "#5\n",
    "def get_letter_grade(score):\n",
    "    if score > 90:\n",
    "        return 'A'\n",
    "    if score > 80:\n",
    "        return 'B'\n",
    "    if score > 70:\n",
    "        return 'C'\n",
    "    if score > 60:\n",
    "        return 'D'\n",
    "    \n",
    "    return 'F'\n",
    "\n",
    "#6\n",
    "def get_class_average(students):\n",
    "    results = []\n",
    "    for student in students:\n",
    "        results.append(get_average(student))\n",
    "    return average(results)\n",
    "\n",
    "#7\n",
    "class_avg = get_class_average(students)\n",
    "print(f'{class_avg:0.2f}', get_letter_grade(class_avg))\n"
   ]
  }
 ],
 "metadata": {
  "kernelspec": {
   "display_name": "Python 3.9.7 ('base')",
   "language": "python",
   "name": "python3"
  },
  "language_info": {
   "codemirror_mode": {
    "name": "ipython",
    "version": 3
   },
   "file_extension": ".py",
   "mimetype": "text/x-python",
   "name": "python",
   "nbconvert_exporter": "python",
   "pygments_lexer": "ipython3",
   "version": "3.9.7"
  },
  "orig_nbformat": 4,
  "vscode": {
   "interpreter": {
    "hash": "c837123f69bdc9524d7f6dc9cca44631153abf063daf2425e9aa20a968e73933"
   }
  }
 },
 "nbformat": 4,
 "nbformat_minor": 2
}
